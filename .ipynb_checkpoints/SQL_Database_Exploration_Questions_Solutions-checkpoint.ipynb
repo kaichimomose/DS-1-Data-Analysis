{
 "cells": [
  {
   "cell_type": "code",
   "execution_count": null,
   "metadata": {},
   "outputs": [],
   "source": [
    "import panda as pd"
   ]
  },
  {
   "cell_type": "markdown",
   "metadata": {},
   "source": [
    "# 1. Get the player names, player hometowns, school names, player positions, and school conferences for all players with position ‘QB’ or ‘WR’\n",
    "```SQL\n",
    "select player_name, hometown, players.school_name, position, conference from benn.college_football_players players\n",
    "join benn.college_football_teams teams on players.school_name = teams.school_name\n",
    "where position = 'QB' or position = 'WR'\n",
    "```"
   ]
  },
  {
   "cell_type": "code",
   "execution_count": null,
   "metadata": {},
   "outputs": [],
   "source": [
    "path = \"dataset/untitled_report-query_1-ca27d6ed9d81-2018-01-30-02-57-32.csv\"\n",
    "df = pd.read_csv(path)\n",
    "df"
   ]
  },
  {
   "cell_type": "code",
   "execution_count": null,
   "metadata": {
    "collapsed": true
   },
   "outputs": [],
   "source": []
  }
 ],
 "metadata": {
  "kernelspec": {
   "display_name": "Python 3",
   "language": "python",
   "name": "python3"
  },
  "language_info": {
   "codemirror_mode": {
    "name": "ipython",
    "version": 3
   },
   "file_extension": ".py",
   "mimetype": "text/x-python",
   "name": "python",
   "nbconvert_exporter": "python",
   "pygments_lexer": "ipython3",
   "version": "3.6.3"
  }
 },
 "nbformat": 4,
 "nbformat_minor": 2
}
